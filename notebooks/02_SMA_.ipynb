{
 "cells": [
  {
   "cell_type": "markdown",
   "metadata": {},
   "source": [
    "# 00 Import and Setup"
   ]
  },
  {
   "cell_type": "code",
   "execution_count": null,
   "metadata": {},
   "outputs": [],
   "source": [
    "from pylab import mpl, plt\n",
    "plt.style.use('seaborn')\n",
    "mpl.rcParams['savefig.dpi'] = 300\n",
    "mpl.rcParams['font.family'] = 'serif'"
   ]
  },
  {
   "cell_type": "code",
   "execution_count": null,
   "metadata": {},
   "outputs": [],
   "source": [
    "from tehran_stocks import Stocks\n",
    "import pandas as pd\n",
    "import numpy as np"
   ]
  },
  {
   "cell_type": "code",
   "execution_count": null,
   "metadata": {},
   "outputs": [],
   "source": [
    "fmelli ='35425587644337450'\n",
    "kgol='35700344742885862'\n",
    "khodro = '65883838195688438'\n",
    "stock = Stocks.query.filter_by(code=kgol).first()\n",
    "df = stock.df.copy()\n",
    "df.info()\n",
    "\n",
    "df.head()"
   ]
  },
  {
   "cell_type": "code",
   "execution_count": null,
   "metadata": {},
   "outputs": [],
   "source": [
    "# create new dataframe\n",
    "selected_column = 'close'\n",
    "data = df[['close']].copy().dropna()\n",
    "data.rename(columns={selected_column:'price'}, inplace=True)\n",
    "data.info()"
   ]
  },
  {
   "cell_type": "code",
   "execution_count": null,
   "metadata": {},
   "outputs": [],
   "source": [
    "## create SMA\n",
    "short_period = 20\n",
    "long_period = 51\n",
    "data['SMA1'] = data['price'].rolling(window=short_period).mean()\n",
    "data['SMA2'] = data['price'].rolling(window=long_period).mean()\n",
    "data.dropna(inplace=True)\n"
   ]
  },
  {
   "cell_type": "code",
   "execution_count": null,
   "metadata": {},
   "outputs": [],
   "source": [
    "#plot price and SMA\n",
    "data.plot(title=f'GolGohar | {short_period} & {long_period}', figsize=(12,8))"
   ]
  },
  {
   "cell_type": "code",
   "execution_count": null,
   "metadata": {},
   "outputs": [],
   "source": [
    "# plot positions\n",
    "data['position'] = np.where(data['SMA1']> data['SMA2'], 1,0)\n",
    "data['position'].plot(ylim=[-0.1, 1.1], title=\"Market Positioning\")"
   ]
  },
  {
   "cell_type": "code",
   "execution_count": null,
   "metadata": {},
   "outputs": [],
   "source": [
    "\n",
    "#Compute returns\n",
    "data['returns'] = np.log(data['price']/data['price'].shift(1))\n",
    "data['returns'].hist(bins=10, figsize=(10,6))"
   ]
  },
  {
   "cell_type": "code",
   "execution_count": null,
   "metadata": {},
   "outputs": [],
   "source": [
    "# strategy return\n",
    "data['strategy'] = data['position'].shift(1) * data['returns']\n",
    "data[data.position==1].tail()"
   ]
  },
  {
   "cell_type": "code",
   "execution_count": null,
   "metadata": {},
   "outputs": [],
   "source": [
    "# compare total returns\n",
    "data[['returns', 'strategy']].sum().apply(np.exp)"
   ]
  },
  {
   "cell_type": "code",
   "execution_count": null,
   "metadata": {},
   "outputs": [],
   "source": [
    "# plot returns\n",
    "data[['returns', 'strategy']].cumsum().apply(np.exp).plot(figsize=(10,6))\n"
   ]
  },
  {
   "cell_type": "code",
   "execution_count": null,
   "metadata": {},
   "outputs": [],
   "source": [
    "# make strategy as function of stock!\n",
    "\n",
    "from typing import Literal\n",
    "\n",
    "\n",
    "def sma_strategy_backtest(code: str, short_period: int, long_period: int, selected_column:Literal['close','open','high','low']= 'close'):\n",
    "    stock = Stocks.query.filter_by(code=code).first()\n",
    "    df = stock.df.copy()\n",
    "    selected_column = 'close'\n",
    "    data = df[['close']].copy().dropna()\n",
    "    data.rename(columns={selected_column:'price'}, inplace=True)\n",
    "    # data.info()\n",
    "    data['SMA1'] = data['price'].rolling(window=short_period).mean()\n",
    "    data['SMA2'] = data['price'].rolling(window=long_period).mean()\n",
    "    data.dropna(inplace=True)\n",
    "    data.plot(title=f'GolGohar | {short_period} & {long_period}', figsize=(12,8))\n",
    "\n"
   ]
  },
  {
   "cell_type": "code",
   "execution_count": null,
   "metadata": {},
   "outputs": [],
   "source": []
  }
 ],
 "metadata": {
  "kernelspec": {
   "display_name": "Python 3.10.4 ('venv': venv)",
   "language": "python",
   "name": "python3"
  },
  "language_info": {
   "codemirror_mode": {
    "name": "ipython",
    "version": 3
   },
   "file_extension": ".py",
   "mimetype": "text/x-python",
   "name": "python",
   "nbconvert_exporter": "python",
   "pygments_lexer": "ipython3",
   "version": "3.10.4"
  },
  "orig_nbformat": 4,
  "vscode": {
   "interpreter": {
    "hash": "f2e7c62a4a9a4bf8003e62620239fe270c25a222c2ff14f46e7f256fef45df8e"
   }
  }
 },
 "nbformat": 4,
 "nbformat_minor": 2
}
